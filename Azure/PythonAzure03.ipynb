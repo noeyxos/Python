{
  "nbformat": 4,
  "nbformat_minor": 0,
  "metadata": {
    "colab": {
      "provenance": [],
      "authorship_tag": "ABX9TyMiVvqt59qY4TAI2Yw8ATKP",
      "include_colab_link": true
    },
    "kernelspec": {
      "name": "python3",
      "display_name": "Python 3"
    },
    "language_info": {
      "name": "python"
    }
  },
  "cells": [
    {
      "cell_type": "markdown",
      "metadata": {
        "id": "view-in-github",
        "colab_type": "text"
      },
      "source": [
        "<a href=\"https://colab.research.google.com/github/noeyxos/Python/blob/master/PythonAzure03.ipynb\" target=\"_parent\"><img src=\"https://colab.research.google.com/assets/colab-badge.svg\" alt=\"Open In Colab\"/></a>"
      ]
    },
    {
      "cell_type": "code",
      "execution_count": 1,
      "metadata": {
        "colab": {
          "base_uri": "https://localhost:8080/"
        },
        "id": "kOnBG8hAWyOS",
        "outputId": "8440b8cc-9e4b-44e5-990d-3cb681b707e4"
      },
      "outputs": [
        {
          "output_type": "stream",
          "name": "stdout",
          "text": [
            "Looking in indexes: https://pypi.org/simple, https://us-python.pkg.dev/colab-wheels/public/simple/\n",
            "Collecting azure-storage-queue==2.1.0\n",
            "  Downloading azure_storage_queue-2.1.0-py2.py3-none-any.whl (24 kB)\n",
            "Collecting azure-common>=1.1.5\n",
            "  Downloading azure_common-1.1.28-py2.py3-none-any.whl (14 kB)\n",
            "Collecting azure-storage-common~=2.1\n",
            "  Downloading azure_storage_common-2.1.0-py2.py3-none-any.whl (47 kB)\n",
            "\u001b[2K     \u001b[90m━━━━━━━━━━━━━━━━━━━━━━━━━━━━━━━━━━━━━━━━\u001b[0m \u001b[32m47.8/47.8 kB\u001b[0m \u001b[31m2.8 MB/s\u001b[0m eta \u001b[36m0:00:00\u001b[0m\n",
            "\u001b[?25hRequirement already satisfied: cryptography in /usr/local/lib/python3.9/dist-packages (from azure-storage-common~=2.1->azure-storage-queue==2.1.0) (40.0.2)\n",
            "Requirement already satisfied: python-dateutil in /usr/local/lib/python3.9/dist-packages (from azure-storage-common~=2.1->azure-storage-queue==2.1.0) (2.8.2)\n",
            "Requirement already satisfied: requests in /usr/local/lib/python3.9/dist-packages (from azure-storage-common~=2.1->azure-storage-queue==2.1.0) (2.27.1)\n",
            "Requirement already satisfied: cffi>=1.12 in /usr/local/lib/python3.9/dist-packages (from cryptography->azure-storage-common~=2.1->azure-storage-queue==2.1.0) (1.15.1)\n",
            "Requirement already satisfied: six>=1.5 in /usr/local/lib/python3.9/dist-packages (from python-dateutil->azure-storage-common~=2.1->azure-storage-queue==2.1.0) (1.16.0)\n",
            "Requirement already satisfied: certifi>=2017.4.17 in /usr/local/lib/python3.9/dist-packages (from requests->azure-storage-common~=2.1->azure-storage-queue==2.1.0) (2022.12.7)\n",
            "Requirement already satisfied: charset-normalizer~=2.0.0 in /usr/local/lib/python3.9/dist-packages (from requests->azure-storage-common~=2.1->azure-storage-queue==2.1.0) (2.0.12)\n",
            "Requirement already satisfied: urllib3<1.27,>=1.21.1 in /usr/local/lib/python3.9/dist-packages (from requests->azure-storage-common~=2.1->azure-storage-queue==2.1.0) (1.26.15)\n",
            "Requirement already satisfied: idna<4,>=2.5 in /usr/local/lib/python3.9/dist-packages (from requests->azure-storage-common~=2.1->azure-storage-queue==2.1.0) (3.4)\n",
            "Requirement already satisfied: pycparser in /usr/local/lib/python3.9/dist-packages (from cffi>=1.12->cryptography->azure-storage-common~=2.1->azure-storage-queue==2.1.0) (2.21)\n",
            "Installing collected packages: azure-common, azure-storage-common, azure-storage-queue\n",
            "Successfully installed azure-common-1.1.28 azure-storage-common-2.1.0 azure-storage-queue-2.1.0\n"
          ]
        }
      ],
      "source": [
        "!pip install azure-storage-queue==2.1.0"
      ]
    },
    {
      "cell_type": "code",
      "source": [
        "from azure.storage.queue import QueueService, QueueMessageFormat"
      ],
      "metadata": {
        "id": "yBaYJ2HNXN-6"
      },
      "execution_count": 2,
      "outputs": []
    },
    {
      "cell_type": "markdown",
      "source": [
        "queue 생성"
      ],
      "metadata": {
        "id": "sN5lNRunlEaZ"
      }
    },
    {
      "cell_type": "code",
      "source": [
        "connect_str = ''\n",
        "\n",
        "queue_name = 'queue-myqueue'\n",
        "queue_service = QueueService(connection_string= connect_str)\n",
        "\n",
        "queue_service.create_queue(queue_name)                                          # queue 생성"
      ],
      "metadata": {
        "colab": {
          "base_uri": "https://localhost:8080/"
        },
        "id": "ItnLRsa9XoMo",
        "outputId": "41e5768f-b052-4256-f055-905b526223ad"
      },
      "execution_count": 4,
      "outputs": [
        {
          "output_type": "execute_result",
          "data": {
            "text/plain": [
              "True"
            ]
          },
          "metadata": {},
          "execution_count": 4
        }
      ]
    },
    {
      "cell_type": "markdown",
      "source": [
        "엔코드 디코드 함수 생성"
      ],
      "metadata": {
        "id": "3JVA-Y6-lGWP"
      }
    },
    {
      "cell_type": "code",
      "source": [
        "queue_service.encode_function = QueueMessageFormat.binary_base64encode\n",
        "queue_service.decode_function = QueueMessageFormat.binary_base64decode"
      ],
      "metadata": {
        "id": "H6JRTdWDYvax"
      },
      "execution_count": 5,
      "outputs": []
    },
    {
      "cell_type": "markdown",
      "source": [
        "message 추가"
      ],
      "metadata": {
        "id": "5dFhT1Pdk_pj"
      }
    },
    {
      "cell_type": "code",
      "source": [
        "import base64\n",
        "message = 'Hello World'\n",
        "print('Adding message: '+ message)\n",
        "\n",
        "message = base64.b64encode(message.encode('utf-8'))\n",
        "queue_service.put_message(queue_name,message)                                   #put_message(넣을 곳, 넣을 내용)"
      ],
      "metadata": {
        "colab": {
          "base_uri": "https://localhost:8080/"
        },
        "id": "wcNbXP1dcbJq",
        "outputId": "e5da19e8-f738-4c47-87ab-9d4ef61fed76"
      },
      "execution_count": 18,
      "outputs": [
        {
          "output_type": "stream",
          "name": "stdout",
          "text": [
            "Adding message: Hello World\n"
          ]
        },
        {
          "output_type": "execute_result",
          "data": {
            "text/plain": [
              "<azure.storage.queue.models.QueueMessage at 0x7f55d29074c0>"
            ]
          },
          "metadata": {},
          "execution_count": 18
        }
      ]
    },
    {
      "cell_type": "code",
      "source": [
        "import base64\n",
        "message = 'Hello World2'\n",
        "print('Adding message: '+ message)\n",
        "\n",
        "message = base64.b64encode(message.encode('utf-8'))\n",
        "queue_service.put_message(queue_name,message)"
      ],
      "metadata": {
        "colab": {
          "base_uri": "https://localhost:8080/"
        },
        "id": "gPVXQwj7g673",
        "outputId": "bac96a94-cb9f-4fd5-a448-48c08087a381"
      },
      "execution_count": 19,
      "outputs": [
        {
          "output_type": "stream",
          "name": "stdout",
          "text": [
            "Adding message: Hello World2\n"
          ]
        },
        {
          "output_type": "execute_result",
          "data": {
            "text/plain": [
              "<azure.storage.queue.models.QueueMessage at 0x7f55d2907dc0>"
            ]
          },
          "metadata": {},
          "execution_count": 19
        }
      ]
    },
    {
      "cell_type": "markdown",
      "source": [
        "peek"
      ],
      "metadata": {
        "id": "knBPfXPrkU1F"
      }
    },
    {
      "cell_type": "code",
      "source": [
        "messages = queue_service.peek_messages(queue_name)\n",
        "\n",
        "for peeked_message in messages:                                                 #peek = get 과 같은 기능이지만 꺼내오는 것이 아니라 엿보는 것 !! \n",
        "  message = base64.b64decode(peeked_message.content)\n",
        "  print('Peeked message : '+message.decode('utf-8'))"
      ],
      "metadata": {
        "colab": {
          "base_uri": "https://localhost:8080/"
        },
        "id": "gYJxz8eThTu5",
        "outputId": "31c4b2a7-9419-49c8-d491-74b2beb19951"
      },
      "execution_count": 20,
      "outputs": [
        {
          "output_type": "stream",
          "name": "stdout",
          "text": [
            "Peeked message : Hello World2\n"
          ]
        }
      ]
    },
    {
      "cell_type": "markdown",
      "source": [
        "get"
      ],
      "metadata": {
        "id": "wG7JWSq0kWX1"
      }
    },
    {
      "cell_type": "code",
      "source": [
        "message = queue_service.get_messages(queue_name)\n",
        "\n",
        "for msg in messages : \n",
        "  message = base64.b64decode(msg.content)\n",
        "  print('Got message: '+ message.decode('utf-8'))"
      ],
      "metadata": {
        "colab": {
          "base_uri": "https://localhost:8080/"
        },
        "id": "-WWLkuQHiJCd",
        "outputId": "acd68869-d4d5-43aa-e659-041613d62358"
      },
      "execution_count": 21,
      "outputs": [
        {
          "output_type": "stream",
          "name": "stdout",
          "text": [
            "Got message: Hello World2\n"
          ]
        }
      ]
    },
    {
      "cell_type": "code",
      "source": [
        "message = queue_service.get_messages(queue_name)\n",
        "\n",
        "for msg in messages : \n",
        "  message = base64.b64decode(msg.content)\n",
        "  print('Got message: '+ message.decode('utf-8'))"
      ],
      "metadata": {
        "colab": {
          "base_uri": "https://localhost:8080/"
        },
        "id": "tuXFYFxujS5o",
        "outputId": "10d9e355-7bfd-4684-bdec-cb9a98689c79"
      },
      "execution_count": 26,
      "outputs": [
        {
          "output_type": "stream",
          "name": "stdout",
          "text": [
            "Got message: Hello World2\n"
          ]
        }
      ]
    },
    {
      "cell_type": "markdown",
      "source": [
        "queue 삭제"
      ],
      "metadata": {
        "id": "m3H2JYfik64u"
      }
    },
    {
      "cell_type": "code",
      "source": [
        "queue_service.delete_queue(queue_name)"
      ],
      "metadata": {
        "colab": {
          "base_uri": "https://localhost:8080/"
        },
        "id": "sDYWdRcQjWVf",
        "outputId": "282d5a6e-d9cf-4ef8-c91e-621d37604ecb"
      },
      "execution_count": 27,
      "outputs": [
        {
          "output_type": "execute_result",
          "data": {
            "text/plain": [
              "True"
            ]
          },
          "metadata": {},
          "execution_count": 27
        }
      ]
    }
  ]
}
