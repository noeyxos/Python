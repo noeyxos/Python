{
  "nbformat": 4,
  "nbformat_minor": 0,
  "metadata": {
    "colab": {
      "provenance": [],
      "authorship_tag": "ABX9TyOSWKW0wcYYhwBBGKWOybbu",
      "include_colab_link": true
    },
    "kernelspec": {
      "name": "python3",
      "display_name": "Python 3"
    },
    "language_info": {
      "name": "python"
    }
  },
  "cells": [
    {
      "cell_type": "markdown",
      "metadata": {
        "id": "view-in-github",
        "colab_type": "text"
      },
      "source": [
        "<a href=\"https://colab.research.google.com/github/noeyxos/python/blob/master/PythonCognitiveCustomVision.ipynb\" target=\"_parent\"><img src=\"https://colab.research.google.com/assets/colab-badge.svg\" alt=\"Open In Colab\"/></a>"
      ]
    },
    {
      "cell_type": "code",
      "execution_count": null,
      "metadata": {
        "colab": {
          "base_uri": "https://localhost:8080/"
        },
        "id": "9RU905_TYuHU",
        "outputId": "5aaa117b-5a8b-4f09-d698-4fbc7209c2fd"
      },
      "outputs": [
        {
          "output_type": "stream",
          "name": "stdout",
          "text": [
            "Looking in indexes: https://pypi.org/simple, https://us-python.pkg.dev/colab-wheels/public/simple/\n",
            "Requirement already satisfied: azure-cognitiveservices-vision-customvision in /usr/local/lib/python3.9/dist-packages (3.1.0)\n",
            "Requirement already satisfied: azure-common~=1.1 in /usr/local/lib/python3.9/dist-packages (from azure-cognitiveservices-vision-customvision) (1.1.28)\n",
            "Requirement already satisfied: msrest>=0.5.0 in /usr/local/lib/python3.9/dist-packages (from azure-cognitiveservices-vision-customvision) (0.7.1)\n",
            "Requirement already satisfied: certifi>=2017.4.17 in /usr/local/lib/python3.9/dist-packages (from msrest>=0.5.0->azure-cognitiveservices-vision-customvision) (2022.12.7)\n",
            "Requirement already satisfied: requests~=2.16 in /usr/local/lib/python3.9/dist-packages (from msrest>=0.5.0->azure-cognitiveservices-vision-customvision) (2.27.1)\n",
            "Requirement already satisfied: requests-oauthlib>=0.5.0 in /usr/local/lib/python3.9/dist-packages (from msrest>=0.5.0->azure-cognitiveservices-vision-customvision) (1.3.1)\n",
            "Requirement already satisfied: azure-core>=1.24.0 in /usr/local/lib/python3.9/dist-packages (from msrest>=0.5.0->azure-cognitiveservices-vision-customvision) (1.26.4)\n",
            "Requirement already satisfied: isodate>=0.6.0 in /usr/local/lib/python3.9/dist-packages (from msrest>=0.5.0->azure-cognitiveservices-vision-customvision) (0.6.1)\n",
            "Requirement already satisfied: six>=1.11.0 in /usr/local/lib/python3.9/dist-packages (from azure-core>=1.24.0->msrest>=0.5.0->azure-cognitiveservices-vision-customvision) (1.16.0)\n",
            "Requirement already satisfied: typing-extensions>=4.3.0 in /usr/local/lib/python3.9/dist-packages (from azure-core>=1.24.0->msrest>=0.5.0->azure-cognitiveservices-vision-customvision) (4.5.0)\n",
            "Requirement already satisfied: idna<4,>=2.5 in /usr/local/lib/python3.9/dist-packages (from requests~=2.16->msrest>=0.5.0->azure-cognitiveservices-vision-customvision) (3.4)\n",
            "Requirement already satisfied: charset-normalizer~=2.0.0 in /usr/local/lib/python3.9/dist-packages (from requests~=2.16->msrest>=0.5.0->azure-cognitiveservices-vision-customvision) (2.0.12)\n",
            "Requirement already satisfied: urllib3<1.27,>=1.21.1 in /usr/local/lib/python3.9/dist-packages (from requests~=2.16->msrest>=0.5.0->azure-cognitiveservices-vision-customvision) (1.26.15)\n",
            "Requirement already satisfied: oauthlib>=3.0.0 in /usr/local/lib/python3.9/dist-packages (from requests-oauthlib>=0.5.0->msrest>=0.5.0->azure-cognitiveservices-vision-customvision) (3.2.2)\n"
          ]
        }
      ],
      "source": [
        "pip install azure-cognitiveservices-vision-customvision"
      ]
    },
    {
      "cell_type": "code",
      "source": [
        "from azure.cognitiveservices.vision.customvision.training import CustomVisionTrainingClient\n",
        "from azure.cognitiveservices.vision.customvision.training.models import ImageFileCreateEntry\n",
        "from msrest.authentication import ApiKeyCredentials"
      ],
      "metadata": {
        "id": "gWse-TjoZXXA"
      },
      "execution_count": null,
      "outputs": []
    },
    {
      "cell_type": "code",
      "source": [
        "endpoint = 'https://labuser72custom.cognitiveservices.azure.com/'\n",
        "training_key = '49b60bc825c44a3fbe70ebe2dfc4a545'"
      ],
      "metadata": {
        "id": "t45QYTgba_ks"
      },
      "execution_count": null,
      "outputs": []
    },
    {
      "cell_type": "code",
      "source": [
        "publish_iteration_name = 'GreatWallModel_72'\n",
        "credentials = ApiKeyCredentials(in_headers={'Training-key':training_key})"
      ],
      "metadata": {
        "id": "ktZGALNmchHA"
      },
      "execution_count": null,
      "outputs": []
    },
    {
      "cell_type": "code",
      "source": [
        "trainer = CustomVisionTrainingClient(endpoint,credentials)    #trainer 객체 생성 "
      ],
      "metadata": {
        "id": "0oRZ7aFTe1gF"
      },
      "execution_count": null,
      "outputs": []
    },
    {
      "cell_type": "code",
      "source": [
        "#Create a new project\n",
        "print('Creating project....')\n",
        "project_name ='GreatWall_72'\n",
        "project = trainer.create_project(project_name)"
      ],
      "metadata": {
        "colab": {
          "base_uri": "https://localhost:8080/"
        },
        "id": "FhtGGgk3fcRG",
        "outputId": "e83a6c83-d3cc-48da-8059-a52f240c6071"
      },
      "execution_count": null,
      "outputs": [
        {
          "output_type": "stream",
          "name": "stdout",
          "text": [
            "Creating project....\n"
          ]
        }
      ]
    },
    {
      "cell_type": "code",
      "source": [
        "jajangmyeon_tag = trainer.create_tag(project.id, 'jajangmyeon')\n",
        "jjamppong_tag = trainer.create_tag(project.id, 'jjamppong')\n",
        "tangsuyug_tag = trainer.create_tag(project.id, 'tangsuyug')"
      ],
      "metadata": {
        "id": "D_wX6ogugLa2"
      },
      "execution_count": null,
      "outputs": []
    },
    {
      "cell_type": "code",
      "source": [
        "# 학습의 시작 \n",
        "import time \n",
        "\n",
        "print('Training.......')\n",
        "iteration = trainer.train_project(project.id)\n",
        "while(iteration.status != 'Completed'):\n",
        "  iteration = trainer.get_iteration(project.id, iteration.id)   #새로운 정보를 계속 가져온다\n",
        "  print('Training status: '+ iteration.status)\n",
        "  print('Waiting 10 seconds...')\n",
        "  time.sleep(10)                                                #10초 쉬기"
      ],
      "metadata": {
        "colab": {
          "base_uri": "https://localhost:8080/"
        },
        "id": "nM2SUPnbh1rQ",
        "outputId": "8a56eb7b-f0d4-40f6-d988-28c1a88b28a1"
      },
      "execution_count": null,
      "outputs": [
        {
          "output_type": "stream",
          "name": "stdout",
          "text": [
            "Training.......\n",
            "Training status: Training\n",
            "Waiting 10 seconds...\n",
            "Training status: Training\n",
            "Waiting 10 seconds...\n",
            "Training status: Training\n",
            "Waiting 10 seconds...\n",
            "Training status: Training\n",
            "Waiting 10 seconds...\n",
            "Training status: Training\n",
            "Waiting 10 seconds...\n",
            "Training status: Training\n",
            "Waiting 10 seconds...\n",
            "Training status: Training\n",
            "Waiting 10 seconds...\n",
            "Training status: Training\n",
            "Waiting 10 seconds...\n",
            "Training status: Training\n",
            "Waiting 10 seconds...\n",
            "Training status: Training\n",
            "Waiting 10 seconds...\n",
            "Training status: Training\n",
            "Waiting 10 seconds...\n",
            "Training status: Training\n",
            "Waiting 10 seconds...\n",
            "Training status: Training\n",
            "Waiting 10 seconds...\n",
            "Training status: Training\n",
            "Waiting 10 seconds...\n",
            "Training status: Training\n",
            "Waiting 10 seconds...\n",
            "Training status: Training\n",
            "Waiting 10 seconds...\n",
            "Training status: Training\n",
            "Waiting 10 seconds...\n",
            "Training status: Training\n",
            "Waiting 10 seconds...\n",
            "Training status: Training\n",
            "Waiting 10 seconds...\n",
            "Training status: Training\n",
            "Waiting 10 seconds...\n",
            "Training status: Training\n",
            "Waiting 10 seconds...\n",
            "Training status: Training\n",
            "Waiting 10 seconds...\n",
            "Training status: Training\n",
            "Waiting 10 seconds...\n",
            "Training status: Training\n",
            "Waiting 10 seconds...\n",
            "Training status: Completed\n",
            "Waiting 10 seconds...\n"
          ]
        }
      ]
    },
    {
      "cell_type": "code",
      "source": [
        "# 예측, 추론하는 부분\n",
        "from azure.cognitiveservices.vision.customvision.prediction import CustomVisionPredictionClient"
      ],
      "metadata": {
        "id": "Q4QSIWqNpGxf"
      },
      "execution_count": null,
      "outputs": []
    },
    {
      "cell_type": "code",
      "source": [
        "prediction_key ='fefe35bf222f4a768b7f69385fcc3909'\n",
        "prediction_endpoint = 'https://labuser72custom-prediction.cognitiveservices.azure.com/'\n",
        "\n",
        "prediction_credential = ApiKeyCredentials(in_headers={'Prediction-key': prediction_key})\n"
      ],
      "metadata": {
        "id": "syhrtd6u1RqA"
      },
      "execution_count": null,
      "outputs": []
    },
    {
      "cell_type": "code",
      "source": [
        "# 예측 리소스의 생성\n",
        "predictor = CustomVisionPredictionClient(prediction_endpoint, prediction_credential)"
      ],
      "metadata": {
        "id": "3JTZCT1B2963"
      },
      "execution_count": null,
      "outputs": []
    },
    {
      "cell_type": "code",
      "source": [
        "target_image_url = 'https://encrypted-tbn0.gstatic.com/images?q=tbn:ANd9GcTZY0EqjCAbN1kdpS3Y29r3PBbqsk9G0Ghy-w&usqp=CAU'\n",
        "result = predictor.classify_image_url(project.id,\n",
        "                                      'Iteration1',\n",
        "                                      target_image_url)\n"
      ],
      "metadata": {
        "id": "zcXGCM6p3a58"
      },
      "execution_count": null,
      "outputs": []
    },
    {
      "cell_type": "code",
      "source": [
        "for prediction in result.predictions:\n",
        "  print('\\t'+prediction.tag_name + ':{0:.2f}%'.format(prediction.probability*100))"
      ],
      "metadata": {
        "colab": {
          "base_uri": "https://localhost:8080/"
        },
        "id": "ct09N4G64OIA",
        "outputId": "fe5723f8-5eff-4b55-f59e-a6007183b05d"
      },
      "execution_count": null,
      "outputs": [
        {
          "output_type": "stream",
          "name": "stdout",
          "text": [
            "\tjajangmyeon:99.76%\n",
            "\tjjamppong:0.63%\n",
            "\ttangsuyug:0.04%\n"
          ]
        }
      ]
    },
    {
      "cell_type": "code",
      "source": [],
      "metadata": {
        "id": "r-Xkht637MP8"
      },
      "execution_count": null,
      "outputs": []
    }
  ]
}