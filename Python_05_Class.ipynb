{
  "nbformat": 4,
  "nbformat_minor": 0,
  "metadata": {
    "colab": {
      "provenance": [],
      "authorship_tag": "ABX9TyNsNRU7g+Pt08K/7vIY3/Mx",
      "include_colab_link": true
    },
    "kernelspec": {
      "name": "python3",
      "display_name": "Python 3"
    },
    "language_info": {
      "name": "python"
    }
  },
  "cells": [
    {
      "cell_type": "markdown",
      "metadata": {
        "id": "view-in-github",
        "colab_type": "text"
      },
      "source": [
        "<a href=\"https://colab.research.google.com/github/noeyxos/python/blob/master/Python_05_Class.ipynb\" target=\"_parent\"><img src=\"https://colab.research.google.com/assets/colab-badge.svg\" alt=\"Open In Colab\"/></a>"
      ]
    },
    {
      "cell_type": "code",
      "execution_count": null,
      "metadata": {
        "id": "wzstJU76CdV0"
      },
      "outputs": [],
      "source": [
        "# Class 의 사용법\n",
        "\n",
        "class MyClass:\n",
        "  pass    #구현을 하나도 안했을 때 쓰는 키워드 \n"
      ]
    },
    {
      "cell_type": "code",
      "source": [
        "print(id(MyClass))"
      ],
      "metadata": {
        "colab": {
          "base_uri": "https://localhost:8080/"
        },
        "id": "JZqaRQsqF6Ps",
        "outputId": "fe05a62c-1381-4671-fa26-e27846296565"
      },
      "execution_count": null,
      "outputs": [
        {
          "output_type": "stream",
          "name": "stdout",
          "text": [
            "72982720\n"
          ]
        }
      ]
    },
    {
      "cell_type": "code",
      "source": [
        "class Person:\n",
        "  Name = 'Default Name'\n",
        "\n",
        "  def Print(self): \n",
        "    print('My Name is {0}'.format(self.Name))   #this 와 같은 의미 자기자신을 의미함."
      ],
      "metadata": {
        "id": "3dWlfjqaGxNY"
      },
      "execution_count": null,
      "outputs": []
    },
    {
      "cell_type": "code",
      "source": [
        "p1 = Person()"
      ],
      "metadata": {
        "id": "3fLle1WoLl5y"
      },
      "execution_count": null,
      "outputs": []
    },
    {
      "cell_type": "code",
      "source": [
        "p1.Name='윤하'\n",
        "p1.Print()"
      ],
      "metadata": {
        "colab": {
          "base_uri": "https://localhost:8080/"
        },
        "id": "RFM8flA1MZBb",
        "outputId": "d111a303-2592-4689-8d79-3762a1717a37"
      },
      "execution_count": null,
      "outputs": [
        {
          "output_type": "stream",
          "name": "stdout",
          "text": [
            "My Name is 윤하\n"
          ]
        }
      ]
    },
    {
      "cell_type": "code",
      "source": [
        "p1 = Person()\n",
        "p2 = Person()"
      ],
      "metadata": {
        "id": "uz2h6z7qMgZs"
      },
      "execution_count": null,
      "outputs": []
    },
    {
      "cell_type": "code",
      "source": [
        "p1.Name ='박보검'\n",
        "p2.Name ='민아'\n",
        "p1.Print()\n",
        "p2.Print()"
      ],
      "metadata": {
        "colab": {
          "base_uri": "https://localhost:8080/"
        },
        "id": "OI1YdX4jNCLi",
        "outputId": "899810ee-48cb-4798-ccd2-1bc2fce13bc6"
      },
      "execution_count": null,
      "outputs": [
        {
          "output_type": "stream",
          "name": "stdout",
          "text": [
            "My Name is 박보검\n",
            "My Name is 민아\n"
          ]
        }
      ]
    },
    {
      "cell_type": "code",
      "source": [
        "Person.Title = 'New Title'"
      ],
      "metadata": {
        "id": "yFLq6sZSNL_S"
      },
      "execution_count": null,
      "outputs": []
    },
    {
      "cell_type": "code",
      "source": [
        "print(p1.Title)\n",
        "print(p2.Title)"
      ],
      "metadata": {
        "colab": {
          "base_uri": "https://localhost:8080/"
        },
        "id": "twT-TOD8NyNu",
        "outputId": "c22e373e-18e4-45c3-9ca0-95db13bc0f63"
      },
      "execution_count": null,
      "outputs": [
        {
          "output_type": "stream",
          "name": "stdout",
          "text": [
            "New Title\n",
            "New Title\n"
          ]
        }
      ]
    },
    {
      "cell_type": "code",
      "source": [
        "p1.Age = 30"
      ],
      "metadata": {
        "id": "Le7hTBQ3OGVI"
      },
      "execution_count": null,
      "outputs": []
    },
    {
      "cell_type": "code",
      "source": [
        "print(p1.Age)\n",
        "print(p2.Age)"
      ],
      "metadata": {
        "colab": {
          "base_uri": "https://localhost:8080/",
          "height": 211
        },
        "id": "r62wlL8WOevE",
        "outputId": "7a76fc9a-5be0-4959-f6f6-06372d730422"
      },
      "execution_count": null,
      "outputs": [
        {
          "output_type": "stream",
          "name": "stdout",
          "text": [
            "30\n"
          ]
        },
        {
          "output_type": "error",
          "ename": "AttributeError",
          "evalue": "ignored",
          "traceback": [
            "\u001b[0;31m---------------------------------------------------------------------------\u001b[0m",
            "\u001b[0;31mAttributeError\u001b[0m                            Traceback (most recent call last)",
            "\u001b[0;32m<ipython-input-60-47cd04e06f4b>\u001b[0m in \u001b[0;36m<cell line: 2>\u001b[0;34m()\u001b[0m\n\u001b[1;32m      1\u001b[0m \u001b[0mprint\u001b[0m\u001b[0;34m(\u001b[0m\u001b[0mp1\u001b[0m\u001b[0;34m.\u001b[0m\u001b[0mAge\u001b[0m\u001b[0;34m)\u001b[0m\u001b[0;34m\u001b[0m\u001b[0;34m\u001b[0m\u001b[0m\n\u001b[0;32m----> 2\u001b[0;31m \u001b[0mprint\u001b[0m\u001b[0;34m(\u001b[0m\u001b[0mp2\u001b[0m\u001b[0;34m.\u001b[0m\u001b[0mAge\u001b[0m\u001b[0;34m)\u001b[0m\u001b[0;34m\u001b[0m\u001b[0;34m\u001b[0m\u001b[0m\n\u001b[0m",
            "\u001b[0;31mAttributeError\u001b[0m: 'Person' object has no attribute 'Age'"
          ]
        }
      ]
    },
    {
      "cell_type": "code",
      "source": [
        "#Class의 상속\n",
        "class Person:\n",
        "  pass"
      ],
      "metadata": {
        "id": "sZZfQJYcOnON"
      },
      "execution_count": null,
      "outputs": []
    },
    {
      "cell_type": "code",
      "source": [
        "class Student(Person):\n",
        "  pass"
      ],
      "metadata": {
        "id": "LDK28hCsPa4F"
      },
      "execution_count": null,
      "outputs": []
    },
    {
      "cell_type": "code",
      "source": [
        "class Bird:\n",
        "  pass"
      ],
      "metadata": {
        "id": "XGPTFOY4PfLk"
      },
      "execution_count": null,
      "outputs": []
    },
    {
      "cell_type": "code",
      "source": [
        "p = Person()\n",
        "s = Student()"
      ],
      "metadata": {
        "id": "gFNlZonLPn5k"
      },
      "execution_count": null,
      "outputs": []
    },
    {
      "cell_type": "code",
      "source": [
        "#isinstance 인스턴스 관계를 확인하는 함수\n",
        "isinstance(p,Person)\n",
        "isinstance(s,Person)\n",
        "isinstance(s,object)    #파이썬 객체는 모두 object의 자손이다 \n",
        "isinstance(int, object) #정수형도 object의 속성을 상속받아 만든 개념이다 "
      ],
      "metadata": {
        "colab": {
          "base_uri": "https://localhost:8080/"
        },
        "id": "zdLzA68DQdLz",
        "outputId": "9ae522ae-012f-4a9a-8172-9d752d1fd855"
      },
      "execution_count": null,
      "outputs": [
        {
          "output_type": "execute_result",
          "data": {
            "text/plain": [
              "True"
            ]
          },
          "metadata": {},
          "execution_count": 66
        }
      ]
    },
    {
      "cell_type": "code",
      "source": [
        "#생성자 소멸자 메소드 \n",
        "class MyClass:\n",
        "  def __init__(self): #생성자\n",
        "    print('class is created')"
      ],
      "metadata": {
        "id": "hxhwQMXkQip4"
      },
      "execution_count": null,
      "outputs": []
    },
    {
      "cell_type": "code",
      "source": [
        "my = MyClass()\n",
        "del my  #인스턴트 지우기"
      ],
      "metadata": {
        "colab": {
          "base_uri": "https://localhost:8080/"
        },
        "id": "ATYle5hPRzgZ",
        "outputId": "29b98975-cb94-41b1-a3b5-197799bf95d1"
      },
      "execution_count": null,
      "outputs": [
        {
          "output_type": "stream",
          "name": "stdout",
          "text": [
            "class is created\n"
          ]
        }
      ]
    },
    {
      "cell_type": "code",
      "source": [
        "class Person:\n",
        "  Name =''\n",
        "  Age = 0\n",
        "  def __init__(self,name,age):\n",
        "    self.Name = name\n",
        "    self.Age = age\n",
        "  def __del__(self):\n",
        "    print('{0} 잘살다 갑니다.'.format(self.Name))\n",
        "\n",
        "  def PrintName(self):\n",
        "    print(self.Name)\n",
        "    print(self.Age)"
      ],
      "metadata": {
        "id": "YzMOQflpR-Se"
      },
      "execution_count": null,
      "outputs": []
    },
    {
      "cell_type": "code",
      "source": [
        "p = Person('황비홍',40)\n",
        "p.PrintName()\n",
        "del p"
      ],
      "metadata": {
        "colab": {
          "base_uri": "https://localhost:8080/"
        },
        "id": "5Qd2tww9S-RB",
        "outputId": "c5bed058-177d-4eac-9a56-5ba620dbf0de"
      },
      "execution_count": null,
      "outputs": [
        {
          "output_type": "stream",
          "name": "stdout",
          "text": [
            "황비홍\n",
            "40\n",
            "황비홍 잘살다 갑니다.\n"
          ]
        }
      ]
    },
    {
      "cell_type": "code",
      "source": [
        "#정적(Static) 메소드\n",
        "class CounterManager:\n",
        "  InsCount = 0\n",
        "\n",
        "  def __init__(self):\n",
        "    CounterManager.InsCount += 1\n",
        "  def PrintInstanceCount():   #정적메소드로 전환\n",
        "    print('Instance Count:', CounterManager.InsCount)\n",
        "\n",
        "  StaticCount =staticmethod(PrintInstanceCount) #정적메소드라고 정의해줌"
      ],
      "metadata": {
        "id": "k6VC04wITKYY"
      },
      "execution_count": null,
      "outputs": []
    },
    {
      "cell_type": "code",
      "source": [
        "a = CounterManager()\n",
        "b = CounterManager()\n",
        "c = CounterManager()"
      ],
      "metadata": {
        "id": "NsMVscfKY-bb"
      },
      "execution_count": null,
      "outputs": []
    },
    {
      "cell_type": "code",
      "source": [
        "CounterManager.PrintInstanceCount() #Class를 직접 사용하는 것은 금기"
      ],
      "metadata": {
        "colab": {
          "base_uri": "https://localhost:8080/"
        },
        "id": "VJ9KcZurZVTx",
        "outputId": "66a495f2-8b3e-41d3-a16a-18afedab2ea7"
      },
      "execution_count": null,
      "outputs": [
        {
          "output_type": "stream",
          "name": "stdout",
          "text": [
            "Instance Count: 5\n"
          ]
        }
      ]
    },
    {
      "cell_type": "code",
      "source": [
        "p = CounterManager()\n",
        "p.StaticCount()"
      ],
      "metadata": {
        "colab": {
          "base_uri": "https://localhost:8080/"
        },
        "id": "YjvtxBJVZbK4",
        "outputId": "af4ae429-5593-4d39-8d84-2ada17e78d6b"
      },
      "execution_count": null,
      "outputs": [
        {
          "output_type": "stream",
          "name": "stdout",
          "text": [
            "Instance Count: 6\n"
          ]
        }
      ]
    },
    {
      "cell_type": "code",
      "source": [
        "# 상속의 심화\n",
        "class Person:\n",
        "\n",
        "  def __init__(self,name,phone):\n",
        "    self.Name = name\n",
        "    self.Phone = phone\n",
        "\n",
        "  def PrintInfo(self):\n",
        "    print('Info(Name:{0}, Phone {1}'.format(self.Name, self.Phone))\n",
        "\n",
        "  def PrintPersonData(self):\n",
        "    print('Person(Name:{0}, Phone {1}'.format(self.Name, self.Phone))"
      ],
      "metadata": {
        "id": "0nUokPMdZ2KE"
      },
      "execution_count": null,
      "outputs": []
    },
    {
      "cell_type": "code",
      "source": [
        "class Student(Person):\n",
        "  def __init__(self,name,phone,subject,studentID):\n",
        "    self.Name = name\n",
        "    self.Phone = phone\n",
        "    self.Subject = subject\n",
        "    self.StudentID = studentID"
      ],
      "metadata": {
        "id": "M3PmZ9NdcKO_"
      },
      "execution_count": null,
      "outputs": []
    },
    {
      "cell_type": "code",
      "source": [
        "p = Person('박보검','010-1111-1111')\n",
        "s = Student('민아','010-2222-2222','학생회장','0001')"
      ],
      "metadata": {
        "id": "bVKLmSrEcihi"
      },
      "execution_count": null,
      "outputs": []
    },
    {
      "cell_type": "code",
      "source": [
        "print(p.__dict__)  #해당 딕셔너리 내용 확인가능\n",
        "print(s.__dict__)"
      ],
      "metadata": {
        "colab": {
          "base_uri": "https://localhost:8080/"
        },
        "id": "VqabJoJEczKZ",
        "outputId": "e3c5b9ea-3299-4102-f65b-79c2bac819ce"
      },
      "execution_count": null,
      "outputs": [
        {
          "output_type": "stream",
          "name": "stdout",
          "text": [
            "{'Name': '박보검', 'Phone': '010-1111-1111'}\n",
            "{'Name': '민아', 'Phone': '010-2222-2222', 'Subject': '학생회장', 'StudentID': '0001'}\n"
          ]
        }
      ]
    },
    {
      "cell_type": "code",
      "source": [
        "s.PrintInfo()"
      ],
      "metadata": {
        "colab": {
          "base_uri": "https://localhost:8080/"
        },
        "id": "PJRMlKn4dSCD",
        "outputId": "7d514488-9736-463d-efbe-5af4c90cb2ed"
      },
      "execution_count": null,
      "outputs": [
        {
          "output_type": "stream",
          "name": "stdout",
          "text": [
            "Info(Name:민아, Phone 010-2222-2222\n"
          ]
        }
      ]
    },
    {
      "cell_type": "code",
      "source": [
        "#상속관계를 확인\n",
        "issubclass(Student, Person)"
      ],
      "metadata": {
        "colab": {
          "base_uri": "https://localhost:8080/"
        },
        "id": "oMLiQQOzelu2",
        "outputId": "945d9a9e-153d-459d-9378-0c69acdd492b"
      },
      "execution_count": null,
      "outputs": [
        {
          "output_type": "execute_result",
          "data": {
            "text/plain": [
              "True"
            ]
          },
          "metadata": {},
          "execution_count": 99
        }
      ]
    },
    {
      "cell_type": "code",
      "source": [
        "issubclass(Person,Student)"
      ],
      "metadata": {
        "colab": {
          "base_uri": "https://localhost:8080/"
        },
        "id": "i2RcbiYTeuxv",
        "outputId": "5f6d7d1f-bc1f-4e08-e818-f35e94dfa00b"
      },
      "execution_count": null,
      "outputs": [
        {
          "output_type": "execute_result",
          "data": {
            "text/plain": [
              "False"
            ]
          },
          "metadata": {},
          "execution_count": 100
        }
      ]
    },
    {
      "cell_type": "code",
      "source": [
        "class Student(Person):\n",
        "  def __init__(self,name,phone,subject,studentID):\n",
        "    self.Name = name\n",
        "    self.Phone = phone\n",
        "    self.Subject = subject\n",
        "    self.StudentID = studentID\n",
        "\n",
        "    Person.__init__(self,name,phone)  #부모 클래스 호출\n",
        "\n",
        "  def PrintStudentData(self):\n",
        "    print('Student(Name {0}, StudentID {1})'.format(self.Name, self.StudentID))\n",
        "\n",
        "  def PrintPersonData(self):  #오버라이드(재정의)\n",
        "    print('{0}님의 전공은 {1}입니다.'.format(self.Name, self.Subject))"
      ],
      "metadata": {
        "id": "ncAJ00P7e6Pe"
      },
      "execution_count": null,
      "outputs": []
    },
    {
      "cell_type": "code",
      "source": [
        "s = Student('민아','010-2222-2222','Computer','0001')\n",
        "s.PrintStudentData()"
      ],
      "metadata": {
        "colab": {
          "base_uri": "https://localhost:8080/"
        },
        "id": "Kpxga_Aqfd0x",
        "outputId": "2bb7fb07-e66d-42f1-a7d4-7f7349754753"
      },
      "execution_count": null,
      "outputs": [
        {
          "output_type": "stream",
          "name": "stdout",
          "text": [
            "Student(Name 민아, StudentID 0001)\n"
          ]
        }
      ]
    },
    {
      "cell_type": "code",
      "source": [
        "s.PrintPersonData()"
      ],
      "metadata": {
        "colab": {
          "base_uri": "https://localhost:8080/"
        },
        "id": "Lgib9zrnft67",
        "outputId": "26dca87a-2f90-493a-c730-13320362bad9"
      },
      "execution_count": null,
      "outputs": [
        {
          "output_type": "stream",
          "name": "stdout",
          "text": [
            "민아님의 전공은 Computer입니다.\n"
          ]
        }
      ]
    },
    {
      "cell_type": "code",
      "source": [
        "# 다중 상속\n",
        "\n",
        "class Tiger:\n",
        "  def Jump(self):\n",
        "    print('호랑이 점프')"
      ],
      "metadata": {
        "id": "NC7Vbs4cgwp9"
      },
      "execution_count": null,
      "outputs": []
    },
    {
      "cell_type": "code",
      "source": [
        "class Lion:\n",
        "  def Bite(self):\n",
        "    print('사자의 물기')"
      ],
      "metadata": {
        "id": "IagWks5JzIVW"
      },
      "execution_count": null,
      "outputs": []
    },
    {
      "cell_type": "code",
      "source": [
        "class Liger(Tiger,Lion):\n",
        "  def Play(self):\n",
        "    print('라이거의 놀기')"
      ],
      "metadata": {
        "id": "SoDrvAuXzu_q"
      },
      "execution_count": null,
      "outputs": []
    },
    {
      "cell_type": "code",
      "source": [
        "l= Liger()\n",
        "l.Jump()\n",
        "l.Bite()\n",
        "l.Play()"
      ],
      "metadata": {
        "colab": {
          "base_uri": "https://localhost:8080/"
        },
        "id": "c9XzBT-Kz2p7",
        "outputId": "ace29c63-ff2d-4353-b89e-b03196590bac"
      },
      "execution_count": null,
      "outputs": [
        {
          "output_type": "stream",
          "name": "stdout",
          "text": [
            "호랑이 점프\n",
            "사자의 물기\n",
            "라이거의 놀기\n"
          ]
        }
      ]
    },
    {
      "cell_type": "code",
      "source": [],
      "metadata": {
        "id": "YtE6ppmS0D_u"
      },
      "execution_count": null,
      "outputs": []
    }
  ]
}