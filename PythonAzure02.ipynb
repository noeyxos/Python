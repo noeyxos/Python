{
  "nbformat": 4,
  "nbformat_minor": 0,
  "metadata": {
    "colab": {
      "provenance": [],
      "authorship_tag": "ABX9TyNGwW0UftIIR4smQR/czIEP",
      "include_colab_link": true
    },
    "kernelspec": {
      "name": "python3",
      "display_name": "Python 3"
    },
    "language_info": {
      "name": "python"
    }
  },
  "cells": [
    {
      "cell_type": "markdown",
      "metadata": {
        "id": "view-in-github",
        "colab_type": "text"
      },
      "source": [
        "<a href=\"https://colab.research.google.com/github/noeyxos/Python/blob/main/PythonAzure02.ipynb\" target=\"_parent\"><img src=\"https://colab.research.google.com/assets/colab-badge.svg\" alt=\"Open In Colab\"/></a>"
      ]
    },
    {
      "cell_type": "code",
      "execution_count": null,
      "metadata": {
        "colab": {
          "base_uri": "https://localhost:8080/"
        },
        "id": "GKlmywWf8waX",
        "outputId": "cca0426e-7eb4-4570-fe7b-ecdaab0ae97d"
      },
      "outputs": [
        {
          "output_type": "stream",
          "name": "stdout",
          "text": [
            "Looking in indexes: https://pypi.org/simple, https://us-python.pkg.dev/colab-wheels/public/simple/\n",
            "Collecting azure-storage-file\n",
            "  Downloading azure_storage_file-2.1.0-py2.py3-none-any.whl (36 kB)\n",
            "Collecting azure-storage-common~=2.1\n",
            "  Downloading azure_storage_common-2.1.0-py2.py3-none-any.whl (47 kB)\n",
            "\u001b[2K     \u001b[90m━━━━━━━━━━━━━━━━━━━━━━━━━━━━━━━━━━━━━━━━\u001b[0m \u001b[32m47.8/47.8 kB\u001b[0m \u001b[31m2.0 MB/s\u001b[0m eta \u001b[36m0:00:00\u001b[0m\n",
            "\u001b[?25hCollecting azure-common>=1.1.5\n",
            "  Downloading azure_common-1.1.28-py2.py3-none-any.whl (14 kB)\n",
            "Requirement already satisfied: cryptography in /usr/local/lib/python3.9/dist-packages (from azure-storage-common~=2.1->azure-storage-file) (40.0.2)\n",
            "Requirement already satisfied: requests in /usr/local/lib/python3.9/dist-packages (from azure-storage-common~=2.1->azure-storage-file) (2.27.1)\n",
            "Requirement already satisfied: python-dateutil in /usr/local/lib/python3.9/dist-packages (from azure-storage-common~=2.1->azure-storage-file) (2.8.2)\n",
            "Requirement already satisfied: cffi>=1.12 in /usr/local/lib/python3.9/dist-packages (from cryptography->azure-storage-common~=2.1->azure-storage-file) (1.15.1)\n",
            "Requirement already satisfied: six>=1.5 in /usr/local/lib/python3.9/dist-packages (from python-dateutil->azure-storage-common~=2.1->azure-storage-file) (1.16.0)\n",
            "Requirement already satisfied: charset-normalizer~=2.0.0 in /usr/local/lib/python3.9/dist-packages (from requests->azure-storage-common~=2.1->azure-storage-file) (2.0.12)\n",
            "Requirement already satisfied: idna<4,>=2.5 in /usr/local/lib/python3.9/dist-packages (from requests->azure-storage-common~=2.1->azure-storage-file) (3.4)\n",
            "Requirement already satisfied: urllib3<1.27,>=1.21.1 in /usr/local/lib/python3.9/dist-packages (from requests->azure-storage-common~=2.1->azure-storage-file) (1.26.15)\n",
            "Requirement already satisfied: certifi>=2017.4.17 in /usr/local/lib/python3.9/dist-packages (from requests->azure-storage-common~=2.1->azure-storage-file) (2022.12.7)\n",
            "Requirement already satisfied: pycparser in /usr/local/lib/python3.9/dist-packages (from cffi>=1.12->cryptography->azure-storage-common~=2.1->azure-storage-file) (2.21)\n",
            "Installing collected packages: azure-common, azure-storage-common, azure-storage-file\n",
            "Successfully installed azure-common-1.1.28 azure-storage-common-2.1.0 azure-storage-file-2.1.0\n"
          ]
        }
      ],
      "source": [
        "!pip install azure-storage-file           # 스토리지에 관련된 파일 패키지 설치"
      ]
    },
    {
      "cell_type": "code",
      "source": [
        "from azure.storage.file import FileService        # 파일 쉐어 서비스 가져오기\n",
        "file_service = FileService(account_name='',account_key='')      # azure에서 만든 파일 서비스와 연결 (스토리지 계정 이름 ,  계정의 엑서스 키)"
      ],
      "metadata": {
        "id": "JIUmMVEl9Ii2"
      },
      "execution_count": null,
      "outputs": []
    },
    {
      "cell_type": "markdown",
      "source": [
        "▶새로운 파일 만드는 방법"
      ],
      "metadata": {
        "id": "de8K1ESPHbyt"
      }
    },
    {
      "cell_type": "code",
      "source": [
        "file_service.create_share('myshare')      # 새로운 파일 쉐어 생성"
      ],
      "metadata": {
        "colab": {
          "base_uri": "https://localhost:8080/"
        },
        "id": "I23AXasYAK-_",
        "outputId": "e4094cd8-5b17-497a-a5d5-454964deea3a"
      },
      "execution_count": null,
      "outputs": [
        {
          "output_type": "execute_result",
          "data": {
            "text/plain": [
              "True"
            ]
          },
          "metadata": {},
          "execution_count": 4
        }
      ]
    },
    {
      "cell_type": "markdown",
      "source": [
        "▶새로운 디렉토리 만드는 방법"
      ],
      "metadata": {
        "id": "O5PJ_U_CHeKa"
      }
    },
    {
      "cell_type": "code",
      "source": [
        "file_service.create_directory('myshare','sampledir')  # 파일 쉐어에 새로운 디렉토리 생성"
      ],
      "metadata": {
        "colab": {
          "base_uri": "https://localhost:8080/"
        },
        "id": "r9N9KzdDHKDy",
        "outputId": "23fd9fbb-ee86-46e6-8f6f-01197f390d38"
      },
      "execution_count": null,
      "outputs": [
        {
          "output_type": "execute_result",
          "data": {
            "text/plain": [
              "False"
            ]
          },
          "metadata": {},
          "execution_count": 7
        }
      ]
    },
    {
      "cell_type": "code",
      "source": [
        "from azure.storage.file import ContentSettings      # 에져의 파일 쉐어에 파일 업로드 하기 \n",
        "file_service.create_file_from_path(                           # 해당 경로를 설정 후 파일 업로드\n",
        "    'myshare',                                                            # 업로드 할 파일 쉐어 이름\n",
        "    'sampledir',                                                          # 업로드 할 디렉토리\n",
        "    'myfile.jpg',                                                          # 업로드 할 파일\n",
        "    'IU.jpg'                                                                 # 업로드 할 파일\n",
        ")"
      ],
      "metadata": {
        "id": "D8YEgUSSHuIn"
      },
      "execution_count": null,
      "outputs": []
    },
    {
      "cell_type": "markdown",
      "source": [
        "▶ directory 내용의 확인"
      ],
      "metadata": {
        "id": "20OhedfKLMWO"
      }
    },
    {
      "cell_type": "code",
      "source": [
        "# directory 내용의 확인\n",
        "generator = file_service.list_directories_and_files('myshare')    # myshare 안에 있는 디렉토리와 파일 이름 가져오기\n",
        "for file_or_dir in generator:                                                       # 디렉토리와 파일 모두 출력  \n",
        "  print(file_or_dir.name)"
      ],
      "metadata": {
        "colab": {
          "base_uri": "https://localhost:8080/"
        },
        "id": "9fEXBLsSJQHO",
        "outputId": "a935916e-13f0-4612-93fb-e810c5ab3994"
      },
      "execution_count": null,
      "outputs": [
        {
          "output_type": "stream",
          "name": "stdout",
          "text": [
            "myfile\n",
            "sampledir\n"
          ]
        }
      ]
    },
    {
      "cell_type": "code",
      "source": [
        "# 파일을 가져오는 코드\n",
        "file_service.get_file_to_path('myshare',None,'myfile','IU_DOWNLOAD.jpg')        #None: 특별한 경로가 없다는 뜻, 'myfile', 'IU_DOWNLOAD.jpg' 다운받을 파일 이름"
      ],
      "metadata": {
        "colab": {
          "base_uri": "https://localhost:8080/"
        },
        "id": "nkO0_h1tKxw9",
        "outputId": "101fa0a3-eeb8-4ec1-e745-53e809fed84b"
      },
      "execution_count": null,
      "outputs": [
        {
          "output_type": "execute_result",
          "data": {
            "text/plain": [
              "<azure.storage.file.models.File at 0x7fc1926e0e20>"
            ]
          },
          "metadata": {},
          "execution_count": 13
        }
      ]
    },
    {
      "cell_type": "markdown",
      "source": [
        "▶snapshot"
      ],
      "metadata": {
        "id": "StbYtqS8M4ro"
      }
    },
    {
      "cell_type": "code",
      "source": [
        "#snapshot 스냅샷 : 현재 파일 상태를 사진을 찍어놓는 것. (일종의 타임머신기능)\n",
        "metadata = {'foo':'bar'}\n",
        "snapshot = file_service.snapshot_share('myshare', metadata=metadata)"
      ],
      "metadata": {
        "id": "MsK7zFapP5no"
      },
      "execution_count": null,
      "outputs": []
    },
    {
      "cell_type": "code",
      "source": [
        "share = list(file_service.list_shares(include_snapshots=True))      # 스냅샷에 포함되어 있는 파일 목록 가져오기 "
      ],
      "metadata": {
        "id": "MwbLB5gjNLAd"
      },
      "execution_count": null,
      "outputs": []
    },
    {
      "cell_type": "code",
      "source": [
        "directories_and_file = list(file_service.list_directories_and_files('myshare'))   # myshare 안에 있는 디렉토리와 파일 이름 가져오기\n",
        "for file_or_dir in directories_and_file:\n",
        "  print(file_or_dir.name)                                         # 출력 (새로 업로드를 해도 업로드 한 파일이 모두 출력된다.) "
      ],
      "metadata": {
        "colab": {
          "base_uri": "https://localhost:8080/"
        },
        "id": "NMN5z7nsRwxM",
        "outputId": "ff221437-c200-444d-9551-9a51daa7d116"
      },
      "execution_count": null,
      "outputs": [
        {
          "output_type": "stream",
          "name": "stdout",
          "text": [
            "3.jpg\n",
            "KakaoTalk_20230413_175404028.jpg\n",
            "myfile\n",
            "sampledir\n"
          ]
        }
      ]
    },
    {
      "cell_type": "markdown",
      "source": [
        "스냅샷에 들어있는 내용 확인"
      ],
      "metadata": {
        "id": "G46aDAZQUc1M"
      }
    },
    {
      "cell_type": "code",
      "source": [
        "directories_and_file = list(file_service.list_directories_and_files('myshare',snapshot=''))  # 스냅샷에 포함된 파일들 가져오기\n",
        "for file_or_dir in directories_and_file:\n",
        "  print(file_or_dir.name)     # 스냅샷 생성시에 있던 파일과 디렉토리들만 출력됨"
      ],
      "metadata": {
        "colab": {
          "base_uri": "https://localhost:8080/"
        },
        "id": "xywsc0e6SR0t",
        "outputId": "036360cd-6b3a-409c-8025-6588f52025d8"
      },
      "execution_count": null,
      "outputs": [
        {
          "output_type": "stream",
          "name": "stdout",
          "text": [
            "myfile\n",
            "sampledir\n"
          ]
        }
      ]
    },
    {
      "cell_type": "markdown",
      "source": [
        "특정 스냅샷만 삭제"
      ],
      "metadata": {
        "id": "daNcSE1RU-AI"
      }
    },
    {
      "cell_type": "code",
      "source": [
        "file_service.delete_share('myshare',snapshot='')"
      ],
      "metadata": {
        "colab": {
          "base_uri": "https://localhost:8080/"
        },
        "id": "xDVn9B2oTsTq",
        "outputId": "d432be01-a234-4b34-f216-71df6e7714f6"
      },
      "execution_count": null,
      "outputs": [
        {
          "output_type": "execute_result",
          "data": {
            "text/plain": [
              "True"
            ]
          },
          "metadata": {},
          "execution_count": 26
        }
      ]
    },
    {
      "cell_type": "markdown",
      "source": [
        "특정 파일 삭제"
      ],
      "metadata": {
        "id": "MYKrWRLFVR7w"
      }
    },
    {
      "cell_type": "code",
      "source": [
        "file_service.delete_file('myshare',None,'myfile')   #None: 지정할게 없다는 뜻 ,제일 상위 디렉토리가 지정됨."
      ],
      "metadata": {
        "id": "OtaQ4rFrVCIR"
      },
      "execution_count": null,
      "outputs": []
    },
    {
      "cell_type": "markdown",
      "source": [
        "폴더 자체를 삭제 하고 싶을 때 "
      ],
      "metadata": {
        "id": "nWbzL9LCVTpq"
      }
    },
    {
      "cell_type": "code",
      "source": [
        "file_service.delete_share('myshare')"
      ],
      "metadata": {
        "colab": {
          "base_uri": "https://localhost:8080/"
        },
        "id": "yteniZNcVRWI",
        "outputId": "d9698c6a-5057-45f5-e512-1428f938ddf1"
      },
      "execution_count": null,
      "outputs": [
        {
          "output_type": "execute_result",
          "data": {
            "text/plain": [
              "True"
            ]
          },
          "metadata": {},
          "execution_count": 28
        }
      ]
    },
    {
      "cell_type": "code",
      "source": [],
      "metadata": {
        "id": "4zMeZxFjViD7"
      },
      "execution_count": null,
      "outputs": []
    },
    {
      "cell_type": "markdown",
      "source": [
        "혹시 ! 여기서 오류가 난다면 \n",
        "아직 스냅샷이 삭제가 되지 않았다는 뜻이다 ..."
      ],
      "metadata": {
        "id": "uwBI5gGxV4Y-"
      }
    }
  ]
}