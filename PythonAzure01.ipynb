{
  "nbformat": 4,
  "nbformat_minor": 0,
  "metadata": {
    "colab": {
      "provenance": [],
      "authorship_tag": "ABX9TyO24EmwrR16Z5Tp5lX/+COj",
      "include_colab_link": true
    },
    "kernelspec": {
      "name": "python3",
      "display_name": "Python 3"
    },
    "language_info": {
      "name": "python"
    }
  },
  "cells": [
    {
      "cell_type": "markdown",
      "metadata": {
        "id": "view-in-github",
        "colab_type": "text"
      },
      "source": [
        "<a href=\"https://colab.research.google.com/github/noeyxos/Python/blob/main/PythonAzure01.ipynb\" target=\"_parent\"><img src=\"https://colab.research.google.com/assets/colab-badge.svg\" alt=\"Open In Colab\"/></a>"
      ]
    },
    {
      "cell_type": "code",
      "execution_count": null,
      "metadata": {
        "colab": {
          "base_uri": "https://localhost:8080/"
        },
        "id": "GjdYp5P0lRqv",
        "outputId": "2e128803-285a-44a9-b286-cc6c8fb45476"
      },
      "outputs": [
        {
          "output_type": "stream",
          "name": "stdout",
          "text": [
            "Looking in indexes: https://pypi.org/simple, https://us-python.pkg.dev/colab-wheels/public/simple/\n",
            "Collecting azure-storage-blob\n",
            "  Downloading azure_storage_blob-12.16.0-py3-none-any.whl (387 kB)\n",
            "\u001b[2K     \u001b[90m━━━━━━━━━━━━━━━━━━━━━━━━━━━━━━━━━━━━━━━\u001b[0m \u001b[32m388.0/388.0 kB\u001b[0m \u001b[31m5.3 MB/s\u001b[0m eta \u001b[36m0:00:00\u001b[0m\n",
            "\u001b[?25hCollecting azure-identity\n",
            "  Downloading azure_identity-1.12.0-py3-none-any.whl (135 kB)\n",
            "\u001b[2K     \u001b[90m━━━━━━━━━━━━━━━━━━━━━━━━━━━━━━━━━━━━━━━\u001b[0m \u001b[32m135.5/135.5 kB\u001b[0m \u001b[31m8.1 MB/s\u001b[0m eta \u001b[36m0:00:00\u001b[0m\n",
            "\u001b[?25hCollecting isodate>=0.6.1\n",
            "  Downloading isodate-0.6.1-py2.py3-none-any.whl (41 kB)\n",
            "\u001b[2K     \u001b[90m━━━━━━━━━━━━━━━━━━━━━━━━━━━━━━━━━━━━━━━━\u001b[0m \u001b[32m41.7/41.7 kB\u001b[0m \u001b[31m1.5 MB/s\u001b[0m eta \u001b[36m0:00:00\u001b[0m\n",
            "\u001b[?25hRequirement already satisfied: cryptography>=2.1.4 in /usr/local/lib/python3.9/dist-packages (from azure-storage-blob) (40.0.2)\n",
            "Requirement already satisfied: typing-extensions>=4.0.1 in /usr/local/lib/python3.9/dist-packages (from azure-storage-blob) (4.5.0)\n",
            "Collecting azure-core<2.0.0,>=1.26.0\n",
            "  Downloading azure_core-1.26.4-py3-none-any.whl (173 kB)\n",
            "\u001b[2K     \u001b[90m━━━━━━━━━━━━━━━━━━━━━━━━━━━━━━━━━━━━━━━\u001b[0m \u001b[32m173.9/173.9 kB\u001b[0m \u001b[31m8.5 MB/s\u001b[0m eta \u001b[36m0:00:00\u001b[0m\n",
            "\u001b[?25hCollecting msal<2.0.0,>=1.12.0\n",
            "  Downloading msal-1.22.0-py2.py3-none-any.whl (90 kB)\n",
            "\u001b[2K     \u001b[90m━━━━━━━━━━━━━━━━━━━━━━━━━━━━━━━━━━━━━━━━\u001b[0m \u001b[32m90.0/90.0 kB\u001b[0m \u001b[31m3.2 MB/s\u001b[0m eta \u001b[36m0:00:00\u001b[0m\n",
            "\u001b[?25hCollecting msal-extensions<2.0.0,>=0.3.0\n",
            "  Downloading msal_extensions-1.0.0-py2.py3-none-any.whl (19 kB)\n",
            "Requirement already satisfied: six>=1.12.0 in /usr/local/lib/python3.9/dist-packages (from azure-identity) (1.16.0)\n",
            "Requirement already satisfied: requests>=2.18.4 in /usr/local/lib/python3.9/dist-packages (from azure-core<2.0.0,>=1.26.0->azure-storage-blob) (2.27.1)\n",
            "Requirement already satisfied: cffi>=1.12 in /usr/local/lib/python3.9/dist-packages (from cryptography>=2.1.4->azure-storage-blob) (1.15.1)\n",
            "Collecting PyJWT[crypto]<3,>=1.0.0\n",
            "  Downloading PyJWT-2.6.0-py3-none-any.whl (20 kB)\n",
            "Collecting portalocker<3,>=1.0\n",
            "  Downloading portalocker-2.7.0-py2.py3-none-any.whl (15 kB)\n",
            "Requirement already satisfied: pycparser in /usr/local/lib/python3.9/dist-packages (from cffi>=1.12->cryptography>=2.1.4->azure-storage-blob) (2.21)\n",
            "Requirement already satisfied: certifi>=2017.4.17 in /usr/local/lib/python3.9/dist-packages (from requests>=2.18.4->azure-core<2.0.0,>=1.26.0->azure-storage-blob) (2022.12.7)\n",
            "Requirement already satisfied: charset-normalizer~=2.0.0 in /usr/local/lib/python3.9/dist-packages (from requests>=2.18.4->azure-core<2.0.0,>=1.26.0->azure-storage-blob) (2.0.12)\n",
            "Requirement already satisfied: urllib3<1.27,>=1.21.1 in /usr/local/lib/python3.9/dist-packages (from requests>=2.18.4->azure-core<2.0.0,>=1.26.0->azure-storage-blob) (1.26.15)\n",
            "Requirement already satisfied: idna<4,>=2.5 in /usr/local/lib/python3.9/dist-packages (from requests>=2.18.4->azure-core<2.0.0,>=1.26.0->azure-storage-blob) (3.4)\n",
            "Installing collected packages: PyJWT, portalocker, isodate, azure-core, azure-storage-blob, msal, msal-extensions, azure-identity\n",
            "Successfully installed PyJWT-2.6.0 azure-core-1.26.4 azure-identity-1.12.0 azure-storage-blob-12.16.0 isodate-0.6.1 msal-1.22.0 msal-extensions-1.0.0 portalocker-2.7.0\n"
          ]
        }
      ],
      "source": [
        "!pip install azure-storage-blob azure-identity            # azure blob storage를 다루는 패키지와 identity 인증을 하는 패키지 설치"
      ]
    },
    {
      "cell_type": "code",
      "source": [
        "import os, uuid       \n",
        "from azure.identity import DefaultAzureCredential                               #Credential [에버랜드 손목띠 - 한번 인증하고 나면 계속 남아있는 거]\n",
        "from azure.storage.blob import BlobServiceClient, BlobClient, ContainerClient"
      ],
      "metadata": {
        "id": "YhzkC4Mal0zn"
      },
      "execution_count": null,
      "outputs": []
    },
    {
      "cell_type": "code",
      "source": [
        "# Blob Services 에 접속\n",
        "connect_str = ''                                                            # 블롭 스토리지에서 연결 문자열 가져오기\n",
        "blob_service_client = BlobServiceClient.from_connection_string(connect_str)"
      ],
      "metadata": {
        "id": "i0WAN3umm37B"
      },
      "execution_count": null,
      "outputs": []
    },
    {
      "cell_type": "code",
      "source": [
        "container_name = 'test2container'             #새로운 컨테이너 만들어보기\n",
        "\n",
        "container_client = blob_service_client.create_container(container_name)"
      ],
      "metadata": {
        "id": "61-RaKD2oYmF"
      },
      "execution_count": null,
      "outputs": []
    },
    {
      "cell_type": "code",
      "source": [
        "# Create a local directory to hold blob data\n",
        "local_path = './data'                 # 현재 경로 밑에 data 폴더 만들기위해 경로 지정\n",
        "os.mkdir(local_path)                # os 모듈이 mkdir(local_path): local_path 디렉토리를 만드는 메소드 \n",
        "\n",
        "# Create a file in the local data directory to upload and download\n",
        "# 파일 하나의 이름 \n",
        "local_file_name ='welcome' + '.txt'    \n",
        "# 파일 전체의 경로 \n",
        "upload_file_path = os.path.join(local_path, local_file_name)      #join(): 디렉토리와 파일이름을 합쳐서 하나의 경로로 만들어 줌   \n",
        "\n",
        "\n",
        "#Write text to the file \n",
        "file = open(upload_file_path, mode='w')       # mode='w' 쓰기 모드로 열기 \n",
        "file.write('Welcome to Python')                      # 파일 쓰기\n",
        "file.close()\n"
      ],
      "metadata": {
        "id": "9z3RySPXpGFY"
      },
      "execution_count": null,
      "outputs": []
    },
    {
      "cell_type": "code",
      "source": [
        "# blob storage의 정보 가져오기\n",
        "blob_client = blob_service_client.get_blob_client(\n",
        "    container = container_name,\n",
        "    blob = local_file_name\n",
        ")\n",
        "\n",
        "with open(file = upload_file_path, mode='rb') as data:                          #'rb' : 읽기전용 binary 파일   \n",
        "  blob_client.upload_blob(data)                                                              # blob container에 바로 올림 (파일이 하나도 안깨지는 장점)    "
      ],
      "metadata": {
        "id": "ineW-vPBsB2L"
      },
      "execution_count": null,
      "outputs": []
    },
    {
      "cell_type": "code",
      "source": [
        "# blob 파일의 리스트를 확인한다. \n",
        "print('\\nListing blobs')\n",
        "\n",
        "blob_list = container_client.list_blobs()       #container_client에 list_blobs를 가져와서 \n",
        "for blob in blob_list:                                    #blob 을 확인하자\n",
        "  print('\\t'+ blob.name)"
      ],
      "metadata": {
        "id": "6u20qhciuGUs",
        "colab": {
          "base_uri": "https://localhost:8080/"
        },
        "outputId": "18721bf7-fbc1-465d-fb99-999137922df1"
      },
      "execution_count": null,
      "outputs": [
        {
          "output_type": "stream",
          "name": "stdout",
          "text": [
            "\n",
            "Listing blobs\n",
            "\twelcome.txt\n"
          ]
        }
      ]
    },
    {
      "cell_type": "code",
      "source": [
        "# Download the blob to a local file\n",
        "# Add 'DOWNLOAD' before the .txt extendsion so you can see both files in the data direct\n",
        "\n",
        "#blob storage에 업로드\n",
        "download_file_path = os.path.join(local_path, \n",
        "                                  str.replace(local_file_name,'.txt','_DOWNLOAD.txt'))           #str.replace(타겟, 바꾸기 전, 바뀐 후) : local_file_name의 문자열을 바꾸어줌\n",
        "print(download_file_path)\n",
        "\n",
        "#blob_service 야 container를 가져와라 ! \n",
        "container_client = blob_service_client.get_container_client(container = container_name)    #container의 정보를 가져옴\n",
        "\n",
        "#download\n",
        "with open(file=download_file_path, mode='wb') as download_file:                    # download_file로 파일 열고\n",
        "  download_file.write(container_client.download_blob(blob.name).readall())      # container에서 blob 을 다 읽어와서 다운, 그리고 download_file에 쓰기 "
      ],
      "metadata": {
        "colab": {
          "base_uri": "https://localhost:8080/"
        },
        "id": "blEz5MycPb4M",
        "outputId": "2d994f1c-37f2-48f3-c8cd-46f27e0e06e9"
      },
      "execution_count": null,
      "outputs": [
        {
          "output_type": "stream",
          "name": "stdout",
          "text": [
            "./data/welcome_DOWNLOAD.txt\n"
          ]
        }
      ]
    },
    {
      "cell_type": "markdown",
      "source": [
        "작업 끝나고 나서 리소스 정리할 때 사용"
      ],
      "metadata": {
        "id": "EcdIM-KZWMm_"
      }
    },
    {
      "cell_type": "code",
      "source": [
        "# clean Up (삭제) : 작업 끝나고 나서 리소스를 정리할 때 사용\n",
        "print('\\nPress the Enter Key to begin clean up')    # 경고 ! 엔터키를 누르면 다 지워진다! \n",
        "input()\n",
        "\n",
        "print('Deleting blob container...')\n",
        "container_client.delete_container()\n",
        "\n",
        "print('Deleting the local source and downloaded files...')\n",
        "os.remove(upload_file_path)                                             \n",
        "os.remove(download_file_path)\n",
        "os.rmdir(local_path)                                                            #rmdir : removedirectory \n",
        "\n",
        "print('Done')\n"
      ],
      "metadata": {
        "colab": {
          "base_uri": "https://localhost:8080/"
        },
        "id": "mC-1kcv1SJ0H",
        "outputId": "de4f481f-ab81-4222-ccd9-9095290f440b"
      },
      "execution_count": null,
      "outputs": [
        {
          "output_type": "stream",
          "name": "stdout",
          "text": [
            "\n",
            "Press the Enter Key to begin clean up\n",
            "\n",
            "Deleting blob container...\n",
            "Deleting the local source and downloaded files...\n",
            "Done\n"
          ]
        }
      ]
    },
    {
      "cell_type": "code",
      "source": [
        "# 이번에는 yes를 입력하면  clean Up (삭제) 되는 코드 작성\n",
        "print('\\n Write \"yes\" to begin clean up')    # 경고 ! 엔터키를 누르면 다 지워진다! \n",
        "if input() == 'yes' :\n",
        "\n",
        "  print('Deleting blob container...')\n",
        "  container_client.delete_container()\n",
        "\n",
        "  print('Deleting the local source and downloaded files...')\n",
        "  os.remove(upload_file_path)                                             \n",
        "  os.remove(download_file_path)\n",
        "  os.rmdir(local_path)                                                            #rmdir : removedirectory \n",
        "\n",
        "  print('Done')"
      ],
      "metadata": {
        "id": "ayYJAnCxV7D_"
      },
      "execution_count": null,
      "outputs": []
    }
  ]
}